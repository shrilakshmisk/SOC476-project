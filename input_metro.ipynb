{
 "cells": [
  {
   "cell_type": "code",
   "execution_count": 4,
   "metadata": {},
   "outputs": [],
   "source": [
    "import numpy as np \n",
    "import pandas as pd \n",
    "import pyreadstat"
   ]
  },
  {
   "cell_type": "code",
   "execution_count": 5,
   "metadata": {},
   "outputs": [],
   "source": [
    "# reading the metro file\n",
    "fp3 = \"./metro cities/3_LASI_W1_Individual_metrocities_28-03-22.sav\"\n",
    "df_fp3, meta_fp3 = pyreadstat.read_sav(fp3, encoding=\"latin1\")"
   ]
  },
  {
   "cell_type": "code",
   "execution_count": 6,
   "metadata": {},
   "outputs": [],
   "source": [
    "# Function to get the variable name given a column label (case-insensitive)\n",
    "def get_varname_by_label(meta, target_label):\n",
    "    target_label = target_label.strip().lower()\n",
    "    for var, label in meta.column_names_to_labels.items():\n",
    "        if label is not None and label.strip().lower() == target_label:\n",
    "            return var\n",
    "    return None\n",
    "\n",
    "# Define a function to recode yes/no responses (assuming 1=Yes, 2=No)\n",
    "def recode_yes(x):\n",
    "    return 1 if x == 1 else 0  # Convert 1 to 1, everything else to 0"
   ]
  },
  {
   "cell_type": "code",
   "execution_count": 10,
   "metadata": {},
   "outputs": [
    {
     "data": {
      "text/plain": [
       "array([2.])"
      ]
     },
     "execution_count": 10,
     "metadata": {},
     "output_type": "execute_result"
    }
   ],
   "source": [
    "df_fp3['residence'].unique()"
   ]
  },
  {
   "cell_type": "code",
   "execution_count": 8,
   "metadata": {},
   "outputs": [
    {
     "data": {
      "text/plain": [
       "'residence'"
      ]
     },
     "execution_count": 8,
     "metadata": {},
     "output_type": "execute_result"
    }
   ],
   "source": [
    "get_varname_by_label(meta_fp3,\"Place of residence\")"
   ]
  },
  {
   "cell_type": "code",
   "execution_count": null,
   "metadata": {},
   "outputs": [],
   "source": []
  },
  {
   "cell_type": "markdown",
   "metadata": {},
   "source": [
    "##### Definition 2:\n",
    "Hard threshold: Individuals who have lived in their current city for more than 20 years will not be considered migrants (Binary Variable).\n",
    "\n",
    "##### Definition 3:\n",
    "Duration-based categories: Migration status classified into ordinal categories such as <2 years, <5 years, <10 years in the current location. (Ordinal Variable).\n",
    "\n",
    "Create migration_3 with ordinal groups:\n",
    "1. 0-2 years -> 1\n",
    "2. 3-5 years -> 2\n",
    "3. 6-10 years -> 3\n",
    "4. 11-20 years -> 4\n",
    "5. 21-40 years -> 5\n",
    "6. .>40 years -> 6\n",
    "7. NaN values -> 0\n"
   ]
  },
  {
   "cell_type": "code",
   "execution_count": null,
   "metadata": {},
   "outputs": [],
   "source": [
    "# params for definition 2\n",
    "THRESHOLD = 20\n",
    "\n",
    "# params for definition 3\n",
    "BINS = [-np.inf, 2, 5, 10, 20, 40, np.inf]\n",
    "LABELS = [1, 2, 3, 4, 5, 6]\n",
    "\n",
    "# params for outcome - mental health (CIDI SF score method)\n",
    "# Define the column names directly (based on the lowercase version of LASI dataset codes)\n",
    "cols_cidi1 = [\"mh204\", \"mh205\", \"mh206\", \"mh207\", \"mh208\", \"mh209\", \"mh210\", \"mh211\"]\n",
    "cols_cidi2 = [\"mh217\", \"mh218\", \"mh219\", \"mh220\", \"mh221\", \"mh222\"]\n",
    "\n",
    "# Screening questions\n",
    "col_MH201 = \"mh201\"  # Screening for dysphoria\n",
    "col_MH214 = \"mh214\"  # Screening for anhedonia\n",
    "\n",
    "CIDI_1_THRESHOLD = 3 # Depression: if CIDI_1 score >=3, then 1 else 0"
   ]
  },
  {
   "cell_type": "code",
   "execution_count": null,
   "metadata": {},
   "outputs": [],
   "source": [
    "# Get variable name for \"Since how many years living continuously in this area\"\n",
    "col_name_years = get_varname_by_label(meta_fp3, \"Since how many years living continuously in this area\")\n",
    "if col_name_years is None:\n",
    "    raise ValueError(\"Column label 'Since how many years living continuously in this area' not found in fp3.sav metadata.\")\n",
    "\n",
    "# Convert the column to numeric (handling errors)\n",
    "years_living = pd.to_numeric(df_fp3[col_name_years], errors='coerce')\n",
    "\n",
    "# Create a new DataFrame for migration_2 and migration_3\n",
    "df_input = pd.DataFrame()\n"
   ]
  },
  {
   "cell_type": "code",
   "execution_count": null,
   "metadata": {},
   "outputs": [
    {
     "name": "stdout",
     "output_type": "stream",
     "text": [
      "       migration_1\n",
      "0  adult_migration\n",
      "1  adult_migration\n",
      "2  adult_migration\n",
      "3  adult_migration\n",
      "4  adult_migration\n"
     ]
    }
   ],
   "source": [
    "\n",
    "# Retrieve variable names for place of birth\n",
    "col_birth_country = get_varname_by_label(meta_fp3, \"Place of birth-country\")\n",
    "col_birth_state   = get_varname_by_label(meta_fp3, \"Place of birth-state\")\n",
    "col_birth_district = get_varname_by_label(meta_fp3, \"Place of birth-district\")\n",
    "col_birth_village  = get_varname_by_label(meta_fp3, \"Place of birth-village/town\")\n",
    "\n",
    "# Retrieve variable names for childhood residence\n",
    "col_child_country = get_varname_by_label(meta_fp3, \"Lived most of your childhood-Country\")\n",
    "col_child_district = get_varname_by_label(meta_fp3, \"Lived most of your childhood-distirct\")\n",
    "col_child_state   = get_varname_by_label(meta_fp3, \"Lived most of your childhood-state\")\n",
    "col_child_village  = get_varname_by_label(meta_fp3, \"Lived most of your childhood-village/town\")\n",
    "\n",
    "# Retrieve variable names for adult residence\n",
    "col_adult_country = get_varname_by_label(meta_fp3, \"Lived most of your adult life-country\")\n",
    "col_adult_state   = get_varname_by_label(meta_fp3, \"Lived most of your adult life-state\")\n",
    "col_adult_district = get_varname_by_label(meta_fp3, \"Lived most of your adult life-district\")\n",
    "col_adult_village  = get_varname_by_label(meta_fp3, \"Lived most of your adult life-village/town\")\n",
    "\n",
    "# Check that all required variables were found\n",
    "for name, col in [(\"Place of birth-country\", col_birth_country),\n",
    "                  (\"Place of birth-state\", col_birth_state),\n",
    "                  (\"Place of birth-district\", col_birth_district),\n",
    "                  (\"Place of birth-village/town\", col_birth_village),\n",
    "                  (\"Lived most of your childhood-Country\", col_child_country),\n",
    "                  (\"Lived most of your childhood-distirct\", col_child_district),\n",
    "                  (\"Lived most of your childhood-state\", col_child_state),\n",
    "                  (\"Lived most of your childhood-village/town\", col_child_village),\n",
    "                  (\"Lived most of your adult life-country\", col_adult_country),\n",
    "                  (\"Lived most of your adult life-state\", col_adult_state),\n",
    "                  (\"Lived most of your adult life-district\", col_adult_district),\n",
    "                  (\"Lived most of your adult life-village/town\", col_adult_village)]:\n",
    "    if col is None:\n",
    "        raise ValueError(f\"Column label '{name}' not found in fp3.sav metadata.\")\n",
    "\n",
    "# Extract the relevant columns and clean the data\n",
    "def clean_series(series):\n",
    "    return series.astype(str).str.strip().str.lower().fillna(\"\")\n",
    "\n",
    "birth_country = clean_series(df_fp3[col_birth_country])\n",
    "birth_state = clean_series(df_fp3[col_birth_state])\n",
    "birth_district = clean_series(df_fp3[col_birth_district])\n",
    "birth_village = clean_series(df_fp3[col_birth_village])\n",
    "\n",
    "child_country = clean_series(df_fp3[col_child_country])\n",
    "child_state = clean_series(df_fp3[col_child_state])\n",
    "child_district = clean_series(df_fp3[col_child_district])\n",
    "child_village = clean_series(df_fp3[col_child_village])\n",
    "\n",
    "adult_country = clean_series(df_fp3[col_adult_country])\n",
    "adult_state = clean_series(df_fp3[col_adult_state])\n",
    "adult_district = clean_series(df_fp3[col_adult_district])\n",
    "adult_village = clean_series(df_fp3[col_adult_village])\n",
    "\n",
    "# Create concatenated location strings (using a separator to clearly mark boundaries)\n",
    "birth_location = birth_country + \"|\" + birth_state + \"|\" + birth_district + \"|\" + birth_village\n",
    "child_location = child_country + \"|\" + child_state + \"|\" + child_district + \"|\" + child_village\n",
    "adult_location = adult_country + \"|\" + adult_state + \"|\" + adult_district + \"|\" + adult_village\n",
    "\n",
    "# Compute migration indicators:\n",
    "# Childhood Migration Indicator: 1 if any level differs between place of birth and childhood residence, else 0.\n",
    "child_migration = (birth_location != child_location).astype(int)\n",
    "\n",
    "# Adult Migration Indicator: 1 if any level differs between place of birth and adult residence, else 0.\n",
    "adult_migration = (birth_location != adult_location).astype(int)\n",
    "\n",
    "# Create a new DataFrame with the concatenated locations and migration indicators\n",
    "df_life_course_migration = pd.DataFrame({\n",
    "    \"Birth Location\": birth_location,\n",
    "    \"Childhood Location\": child_location,\n",
    "    \"Childhood Migration Indicator\": child_migration,\n",
    "    \"Adult Location\": adult_location,\n",
    "    \"Adult Migration Indicator\": adult_migration\n",
    "})\n",
    "\n",
    "df_input[\"migration_1\"] = np.where(\n",
    "    years_living == 9993,\n",
    "    \"0\",\n",
    "    np.where(child_migration == 1, \"child_migration\",\n",
    "             np.where(adult_migration == 1, \"adult_migration\", \"0\"))\n",
    ")\n",
    "\n",
    "\n",
    "# Display the first few rows of the resulting DataFrame\n",
    "print(df_input.head())\n"
   ]
  },
  {
   "cell_type": "code",
   "execution_count": null,
   "metadata": {},
   "outputs": [
    {
     "name": "stdout",
     "output_type": "stream",
     "text": [
      "       migration_1  migration_2  migration_3\n",
      "0  adult_migration            1            3\n",
      "1  adult_migration            1            4\n",
      "2  adult_migration            1            4\n",
      "3  adult_migration            0            5\n",
      "4  adult_migration            0            5\n"
     ]
    }
   ],
   "source": [
    "\n",
    "# Create migration_2: 0 if years >= THRESHOLD, else 1\n",
    "df_input[\"migration_2\"] = np.where(years_living >= THRESHOLD, 0, 1)\n",
    "\n",
    "# Use pd.cut, and fill NaN values with a default category (e.g., 0 for unknown)\n",
    "df_input[\"migration_3\"] = pd.cut(years_living, bins=BINS, labels=LABELS, right=True)\n",
    "\n",
    "# Convert migration_3 to integer, replacing NaN with 0 (or any default category you prefer)\n",
    "df_input[\"migration_3\"] = df_input[\"migration_3\"].cat.add_categories(0).fillna(0).astype(int)\n",
    "\n",
    "\n",
    "# Display first few rows of the new DataFrame\n",
    "print(df_input.head())\n"
   ]
  },
  {
   "cell_type": "code",
   "execution_count": null,
   "metadata": {},
   "outputs": [
    {
     "name": "stdout",
     "output_type": "stream",
     "text": [
      "       migration_1  migration_2  migration_3     migration_4\n",
      "0  adult_migration            1            3  Urban-to-Urban\n",
      "1  adult_migration            1            4  Rural-to-Urban\n",
      "2  adult_migration            1            4  Rural-to-Urban\n",
      "3  adult_migration            0            5  Rural-to-Urban\n",
      "4  adult_migration            0            5  Rural-to-Urban\n"
     ]
    }
   ],
   "source": [
    "# Get variable names by column labels (using your previously defined function)\n",
    "col_DM017 = get_varname_by_label(meta_fp3, \"Place of residence\")\n",
    "col_DM018 = get_varname_by_label(meta_fp3, \"Place of last residence-village/town\")\n",
    "\n",
    "# Extract the columns for DM017 and DM018\n",
    "# (These variables are assumed to contain numeric codes: 1 for village, 2 for town)\n",
    "place_birth = df_fp3[col_DM017]\n",
    "place_last_res = df_fp3[col_DM018]\n",
    "\n",
    "# For clarity, create a new DataFrame with only the two variables:\n",
    "df_migration_type = pd.DataFrame({\n",
    "    \"Place of Birth\": place_birth,\n",
    "    \"Place of Last Residence\": place_last_res\n",
    "})\n",
    "\n",
    "# Define a function to classify migration type based on rural/urban codes\n",
    "def classify_migration(row):\n",
    "    pb = row[\"Place of Birth\"]\n",
    "    plr = row[\"Place of Last Residence\"]\n",
    "    # Check for missing values (if not coded as 1 or 2, you might want to handle them separately)\n",
    "    if pd.isna(pb) or pd.isna(plr):\n",
    "        return \"0\"\n",
    "    if plr==1:\n",
    "        return \"Rural-to-Urban\"\n",
    "    elif plr==2:\n",
    "        return \"Urban-to-Urban\"\n",
    "    \n",
    "    \n",
    "    # if pb == 1 and plr == 1:\n",
    "    #     return \"Rural-to-Rural\"\n",
    "    # elif pb == 1 and plr == 2:\n",
    "    #     return \"Rural-to-Urban\"\n",
    "    # elif pb == 2 and plr == 1:\n",
    "    #     return \"Urban-to-Rural\"\n",
    "    # elif pb == 2 and plr == 2:\n",
    "    #     return \"Urban-to-Urban\"\n",
    "    # else:\n",
    "    #     return np.nan\n",
    "\n",
    "# Apply the function to each row to create a new column 'Migration Type'\n",
    "df_input[\"migration_4\"] = df_migration_type.apply(classify_migration, axis=1)\n",
    "\n",
    "# Optionally, display the first few rows of the resulting DataFrame\n",
    "print(df_input.head())\n"
   ]
  },
  {
   "cell_type": "code",
   "execution_count": null,
   "metadata": {},
   "outputs": [
    {
     "name": "stderr",
     "output_type": "stream",
     "text": [
      "C:\\Users\\siddh\\AppData\\Local\\Temp\\ipykernel_26336\\1461186384.py:3: FutureWarning: DataFrame.applymap has been deprecated. Use DataFrame.map instead.\n",
      "  df_input[\"CIDI_1\"] = df_fp3[cols_cidi1].applymap(recode_yes).sum(axis=1)\n",
      "C:\\Users\\siddh\\AppData\\Local\\Temp\\ipykernel_26336\\1461186384.py:8: FutureWarning: DataFrame.applymap has been deprecated. Use DataFrame.map instead.\n",
      "  df_input[\"CIDI_2\"] = df_fp3[cols_cidi2].applymap(recode_yes).sum(axis=1)\n"
     ]
    }
   ],
   "source": [
    "# Compute CIDI_1 (dysphoria score)\n",
    "df_fp3[\"MH201_binary\"] = df_fp3[col_MH201].apply(recode_yes)\n",
    "df_input[\"CIDI_1\"] = df_fp3[cols_cidi1].applymap(recode_yes).sum(axis=1)\n",
    "df_input.loc[df_fp3[\"MH201_binary\"] == 0, \"CIDI_1\"] = 0  # Set to 0 if screening was No\n",
    "\n",
    "# Compute CIDI_2 (anhedonia score)\n",
    "df_fp3[\"MH214_binary\"] = df_fp3[col_MH214].apply(recode_yes)\n",
    "df_input[\"CIDI_2\"] = df_fp3[cols_cidi2].applymap(recode_yes).sum(axis=1)\n",
    "df_input.loc[df_fp3[\"MH214_binary\"] == 0, \"CIDI_2\"] = 0  # Set to 0 if screening was No\n",
    "\n",
    "# Create binary depression variable (1 if CIDI_1 >= CIDI_1_THRESHOLD, else 0)\n",
    "df_input[\"Depression\"] = df_input[\"CIDI_1\"].apply(lambda x: 1 if x >= CIDI_1_THRESHOLD else 0)\n"
   ]
  },
  {
   "cell_type": "code",
   "execution_count": null,
   "metadata": {},
   "outputs": [
    {
     "name": "stdout",
     "output_type": "stream",
     "text": [
      "       migration_1  migration_2  migration_3     migration_4  CIDI_1  CIDI_2  \\\n",
      "0  adult_migration            1            3  Urban-to-Urban       0       0   \n",
      "1  adult_migration            1            4  Rural-to-Urban       0       0   \n",
      "2  adult_migration            1            4  Rural-to-Urban       0       0   \n",
      "3  adult_migration            0            5  Rural-to-Urban       0       0   \n",
      "4  adult_migration            0            5  Rural-to-Urban       0       0   \n",
      "\n",
      "   Depression  \n",
      "0           0  \n",
      "1           0  \n",
      "2           0  \n",
      "3           0  \n",
      "4           0  \n"
     ]
    }
   ],
   "source": [
    "print(df_input.head())"
   ]
  },
  {
   "cell_type": "code",
   "execution_count": null,
   "metadata": {},
   "outputs": [
    {
     "name": "stdout",
     "output_type": "stream",
     "text": [
      "migration_1\n",
      "0                  3016\n",
      "adult_migration    1235\n",
      "child_migration     222\n",
      "Name: count, dtype: int64\n",
      "\n",
      "migration_2\n",
      "0    3792\n",
      "1     681\n",
      "Name: count, dtype: int64\n",
      "\n",
      "migration_3\n",
      "6    2182\n",
      "5    1394\n",
      "4     542\n",
      "3     211\n",
      "2      87\n",
      "1      51\n",
      "0       6\n",
      "Name: count, dtype: int64\n",
      "\n",
      "migration_4\n",
      "Rural-to-Urban    1618\n",
      "0                 1556\n",
      "Urban-to-Urban    1299\n",
      "Name: count, dtype: int64\n",
      "\n",
      "Depression\n",
      "0    4321\n",
      "1     152\n",
      "Name: count, dtype: int64\n"
     ]
    }
   ],
   "source": [
    "counts = df_input[\"migration_1\"].value_counts()\n",
    "print(counts)\n",
    "print()\n",
    "counts = df_input[\"migration_2\"].value_counts()\n",
    "print(counts)\n",
    "print()\n",
    "counts = df_input[\"migration_3\"].value_counts()\n",
    "print(counts)\n",
    "print()\n",
    "counts = df_input[\"migration_4\"].value_counts()\n",
    "print(counts)\n",
    "print()\n",
    "counts = df_input[\"Depression\"].value_counts()\n",
    "print(counts)\n"
   ]
  },
  {
   "cell_type": "code",
   "execution_count": null,
   "metadata": {},
   "outputs": [],
   "source": []
  },
  {
   "cell_type": "code",
   "execution_count": null,
   "metadata": {},
   "outputs": [],
   "source": [
    "# df['dm005'] # age\n",
    "# df['dm008'] #education level\n",
    "# df['fs318'] # living arrangements\n",
    "# df['fs323'] # relationship with family and friends -  leave for now\n",
    "# df['co101']-df['co107'] # comsumption -- household not individual"
   ]
  },
  {
   "cell_type": "code",
   "execution_count": null,
   "metadata": {},
   "outputs": [],
   "source": [
    "import pandas as pd\n",
    "\n",
    "def one_hot_encode(df, column):\n",
    "    dummies = pd.get_dummies(df[column], prefix=column).astype(int)\n",
    "    dummies.columns = [f\"{column}_{i+1}\" for i in range(dummies.shape[1])]\n",
    "\n",
    "    for col in dummies.columns:\n",
    "        df[col] = dummies[col]\n"
   ]
  },
  {
   "cell_type": "code",
   "execution_count": null,
   "metadata": {},
   "outputs": [],
   "source": [
    "from statsmodels.stats.outliers_influence import variance_inflation_factor\n",
    "import statsmodels.api as sm"
   ]
  },
  {
   "cell_type": "code",
   "execution_count": null,
   "metadata": {},
   "outputs": [],
   "source": [
    "df_fp3['migration_2']=df_input['migration_2']"
   ]
  },
  {
   "cell_type": "code",
   "execution_count": null,
   "metadata": {},
   "outputs": [],
   "source": [
    "binary_features=['migration_2']\n",
    "numerical_features=['dm005']\n",
    "ordinal_features=['dm008']\n",
    "categorial_cols=['fs318']\n",
    "categorial_features=[]\n",
    "for col in categorial_cols:\n",
    "    one_hot_encode(df_fp3,col)\n",
    "\n",
    "    for i in range(df_fp3[col].nunique()):\n",
    "        categorial_features.append(col+f'_{i+1}')\n",
    "\n",
    "feature_cols= binary_features + numerical_features + ordinal_features + categorial_features"
   ]
  },
  {
   "cell_type": "code",
   "execution_count": null,
   "metadata": {},
   "outputs": [],
   "source": [
    "X=df_fp3[feature_cols]\n",
    "\n",
    "for col in categorial_features + ordinal_features+ binary_features:\n",
    "    X.loc[:, col] = X[col].fillna(X[col].mode()[0])\n",
    "for col in numerical_features:\n",
    "    X.loc[:, col] = X[col].fillna(X[col].mean())\n",
    "\n",
    "X=sm.add_constant(X)\n",
    "X.dropna(inplace=True)"
   ]
  },
  {
   "cell_type": "code",
   "execution_count": null,
   "metadata": {},
   "outputs": [],
   "source": [
    "vif_data = pd.DataFrame()\n",
    "vif_data[\"Variable\"] = X.columns\n",
    "vif_data[\"VIF\"] = [variance_inflation_factor(X.values, i) for i in range(X.shape[1])]"
   ]
  },
  {
   "cell_type": "code",
   "execution_count": null,
   "metadata": {},
   "outputs": [
    {
     "name": "stdout",
     "output_type": "stream",
     "text": [
      "      Variable        VIF\n",
      "0        const  35.928449\n",
      "1  migration_2   1.026981\n",
      "2        dm005   1.200894\n",
      "3        dm008   1.012105\n",
      "4      fs318_1   1.018061\n",
      "5      fs318_2   1.090463\n",
      "6      fs318_3   1.141120\n",
      "7      fs318_4   1.002560\n"
     ]
    }
   ],
   "source": [
    "print(vif_data)"
   ]
  },
  {
   "cell_type": "code",
   "execution_count": null,
   "metadata": {},
   "outputs": [
    {
     "name": "stdout",
     "output_type": "stream",
     "text": [
      "Warning: Maximum number of iterations has been exceeded.\n",
      "         Current function value: 0.147179\n",
      "         Iterations: 35\n",
      "Adjusted odds ratio:  1.1503841246442899\n"
     ]
    },
    {
     "name": "stderr",
     "output_type": "stream",
     "text": [
      "c:\\Users\\siddh\\anaconda3\\Lib\\site-packages\\statsmodels\\base\\model.py:607: ConvergenceWarning: Maximum Likelihood optimization failed to converge. Check mle_retvals\n",
      "  warnings.warn(\"Maximum Likelihood optimization failed to \"\n",
      "C:\\Users\\siddh\\AppData\\Local\\Temp\\ipykernel_26336\\4201288895.py:6: FutureWarning: Series.__getitem__ treating keys as positions is deprecated. In a future version, integer keys will always be treated as labels (consistent with DataFrame behavior). To access a value by position, use `ser.iloc[pos]`\n",
      "  print(\"Adjusted odds ratio: \",np.exp(model.params[1]))\n"
     ]
    }
   ],
   "source": [
    "# Fit logistic regression model\n",
    "y = df_input['Depression']\n",
    "model = sm.Logit(y, X).fit()\n",
    "\n",
    "# Display model summary\n",
    "print(\"Adjusted odds ratio: \",np.exp(model.params[1]))"
   ]
  },
  {
   "cell_type": "code",
   "execution_count": null,
   "metadata": {},
   "outputs": [],
   "source": []
  },
  {
   "cell_type": "code",
   "execution_count": null,
   "metadata": {},
   "outputs": [],
   "source": []
  },
  {
   "cell_type": "code",
   "execution_count": null,
   "metadata": {},
   "outputs": [],
   "source": []
  },
  {
   "cell_type": "code",
   "execution_count": null,
   "metadata": {},
   "outputs": [],
   "source": [
    "df_fp3['migration_1']=df_input['migration_1']\n",
    "df_fp3['migration_2']=df_input['migration_2']\n",
    "df_fp3['migration_3']=df_input['migration_3']\n",
    "df_fp3['migration_4']=df_input['migration_4']\n",
    "df_fp3['Depression']=df_input['Depression']\n"
   ]
  },
  {
   "cell_type": "code",
   "execution_count": null,
   "metadata": {},
   "outputs": [
    {
     "data": {
      "text/plain": [
       "0       3\n",
       "1       4\n",
       "2       4\n",
       "3       5\n",
       "4       5\n",
       "       ..\n",
       "4468    6\n",
       "4469    6\n",
       "4470    6\n",
       "4471    6\n",
       "4472    6\n",
       "Name: migration_3, Length: 4473, dtype: int32"
      ]
     },
     "execution_count": 66,
     "metadata": {},
     "output_type": "execute_result"
    }
   ],
   "source": [
    "df_fp3['migration_3']"
   ]
  },
  {
   "cell_type": "code",
   "execution_count": null,
   "metadata": {},
   "outputs": [
    {
     "name": "stdout",
     "output_type": "stream",
     "text": [
      "0.03805668016194332 0.04504504504504504\n"
     ]
    }
   ],
   "source": [
    "num_migrated=np.sum(df_fp3['migration_1']!='0')\n",
    "total=len(df_fp3)\n",
    "adult_migrated=np.sum(df_fp3['migration_1']=='adult_migration')\n",
    "child_migrated=np.sum(df_fp3['migration_1']=='child_migration')\n",
    "adult_migrated_and_depressed=np.sum((df_fp3['migration_1']=='adult_migration') & (df_fp3['Depression']==1))\n",
    "child_migrated_and_depressed=np.sum((df_fp3['migration_1']=='child_migration') & (df_fp3['Depression']==1))\n",
    "print(adult_migrated_and_depressed/adult_migrated,child_migrated_and_depressed/child_migrated)"
   ]
  },
  {
   "cell_type": "code",
   "execution_count": null,
   "metadata": {},
   "outputs": [
    {
     "name": "stdout",
     "output_type": "stream",
     "text": [
      "percentage depressed for 1:  0.0196078431372549\n",
      "percentage depressed for 2:  0.011494252873563218\n",
      "percentage depressed for 3:  0.023696682464454975\n",
      "percentage depressed for 4:  0.05719557195571956\n",
      "percentage depressed for 5:  0.043041606886657105\n",
      "percentage depressed for 6:  0.024289642529789185\n"
     ]
    }
   ],
   "source": [
    "for i in range(1,7):\n",
    "    print(f\"percentage depressed for {i}: \", (np.sum((df_fp3['migration_3']==i) & (df_fp3['Depression']==1)))  /    np.sum(df_fp3['migration_3']==i))"
   ]
  },
  {
   "cell_type": "code",
   "execution_count": null,
   "metadata": {},
   "outputs": [
    {
     "name": "stdout",
     "output_type": "stream",
     "text": [
      "for Urban-to-Urban:  0.05157813702848345\n",
      "for Rural-to-Urban:  0.03584672435105068\n",
      "for 0:  0.017352185089974295\n"
     ]
    }
   ],
   "source": [
    "\n",
    "for x in (df_fp3['migration_4'].unique()):\n",
    "    print(f\"for {x}: \", (np.sum((df_fp3['migration_4']==x) & (df_fp3['Depression']==1)))  /    np.sum(df_fp3['migration_4']==x))"
   ]
  },
  {
   "cell_type": "code",
   "execution_count": null,
   "metadata": {},
   "outputs": [
    {
     "data": {
      "text/plain": [
       "(1299, 1618)"
      ]
     },
     "execution_count": 74,
     "metadata": {},
     "output_type": "execute_result"
    }
   ],
   "source": [
    "np.sum(df_fp3['migration_4']=='Urban-to-Urban'),np.sum(df_fp3['migration_4']=='Rural-to-Urban')"
   ]
  },
  {
   "cell_type": "code",
   "execution_count": null,
   "metadata": {},
   "outputs": [
    {
     "ename": "ValueError",
     "evalue": "setting an array element with a sequence. The requested array has an inhomogeneous shape after 1 dimensions. The detected shape was (2,) + inhomogeneous part.",
     "output_type": "error",
     "traceback": [
      "\u001b[1;31m---------------------------------------------------------------------------\u001b[0m",
      "\u001b[1;31mValueError\u001b[0m                                Traceback (most recent call last)",
      "Cell \u001b[1;32mIn[79], line 13\u001b[0m\n\u001b[0;32m     11\u001b[0m \u001b[38;5;66;03m# Create pie chart\u001b[39;00m\n\u001b[0;32m     12\u001b[0m plt\u001b[38;5;241m.\u001b[39mfigure(figsize\u001b[38;5;241m=\u001b[39m(\u001b[38;5;241m6\u001b[39m, \u001b[38;5;241m6\u001b[39m))  \u001b[38;5;66;03m# Set figure size\u001b[39;00m\n\u001b[1;32m---> 13\u001b[0m plt\u001b[38;5;241m.\u001b[39mpie(values, labels\u001b[38;5;241m=\u001b[39mlabels, autopct\u001b[38;5;241m=\u001b[39m\u001b[38;5;124m'\u001b[39m\u001b[38;5;132;01m%1.1f\u001b[39;00m\u001b[38;5;132;01m%%\u001b[39;00m\u001b[38;5;124m'\u001b[39m, startangle\u001b[38;5;241m=\u001b[39m\u001b[38;5;241m140\u001b[39m)\n\u001b[0;32m     15\u001b[0m \u001b[38;5;66;03m# Show the pie chart\u001b[39;00m\n\u001b[0;32m     16\u001b[0m plt\u001b[38;5;241m.\u001b[39mshow()\n",
      "File \u001b[1;32mc:\\Users\\siddh\\anaconda3\\Lib\\site-packages\\matplotlib\\pyplot.py:3762\u001b[0m, in \u001b[0;36mpie\u001b[1;34m(x, explode, labels, colors, autopct, pctdistance, shadow, labeldistance, startangle, radius, counterclock, wedgeprops, textprops, center, frame, rotatelabels, normalize, hatch, data)\u001b[0m\n\u001b[0;32m   3739\u001b[0m \u001b[38;5;129m@_copy_docstring_and_deprecators\u001b[39m(Axes\u001b[38;5;241m.\u001b[39mpie)\n\u001b[0;32m   3740\u001b[0m \u001b[38;5;28;01mdef\u001b[39;00m \u001b[38;5;21mpie\u001b[39m(\n\u001b[0;32m   3741\u001b[0m     x: ArrayLike,\n\u001b[1;32m   (...)\u001b[0m\n\u001b[0;32m   3760\u001b[0m     data\u001b[38;5;241m=\u001b[39m\u001b[38;5;28;01mNone\u001b[39;00m,\n\u001b[0;32m   3761\u001b[0m ) \u001b[38;5;241m-\u001b[39m\u001b[38;5;241m>\u001b[39m \u001b[38;5;28mtuple\u001b[39m[\u001b[38;5;28mlist\u001b[39m[Wedge], \u001b[38;5;28mlist\u001b[39m[Text]] \u001b[38;5;241m|\u001b[39m \u001b[38;5;28mtuple\u001b[39m[\u001b[38;5;28mlist\u001b[39m[Wedge], \u001b[38;5;28mlist\u001b[39m[Text], \u001b[38;5;28mlist\u001b[39m[Text]]:\n\u001b[1;32m-> 3762\u001b[0m     \u001b[38;5;28;01mreturn\u001b[39;00m gca()\u001b[38;5;241m.\u001b[39mpie(\n\u001b[0;32m   3763\u001b[0m         x,\n\u001b[0;32m   3764\u001b[0m         explode\u001b[38;5;241m=\u001b[39mexplode,\n\u001b[0;32m   3765\u001b[0m         labels\u001b[38;5;241m=\u001b[39mlabels,\n\u001b[0;32m   3766\u001b[0m         colors\u001b[38;5;241m=\u001b[39mcolors,\n\u001b[0;32m   3767\u001b[0m         autopct\u001b[38;5;241m=\u001b[39mautopct,\n\u001b[0;32m   3768\u001b[0m         pctdistance\u001b[38;5;241m=\u001b[39mpctdistance,\n\u001b[0;32m   3769\u001b[0m         shadow\u001b[38;5;241m=\u001b[39mshadow,\n\u001b[0;32m   3770\u001b[0m         labeldistance\u001b[38;5;241m=\u001b[39mlabeldistance,\n\u001b[0;32m   3771\u001b[0m         startangle\u001b[38;5;241m=\u001b[39mstartangle,\n\u001b[0;32m   3772\u001b[0m         radius\u001b[38;5;241m=\u001b[39mradius,\n\u001b[0;32m   3773\u001b[0m         counterclock\u001b[38;5;241m=\u001b[39mcounterclock,\n\u001b[0;32m   3774\u001b[0m         wedgeprops\u001b[38;5;241m=\u001b[39mwedgeprops,\n\u001b[0;32m   3775\u001b[0m         textprops\u001b[38;5;241m=\u001b[39mtextprops,\n\u001b[0;32m   3776\u001b[0m         center\u001b[38;5;241m=\u001b[39mcenter,\n\u001b[0;32m   3777\u001b[0m         frame\u001b[38;5;241m=\u001b[39mframe,\n\u001b[0;32m   3778\u001b[0m         rotatelabels\u001b[38;5;241m=\u001b[39mrotatelabels,\n\u001b[0;32m   3779\u001b[0m         normalize\u001b[38;5;241m=\u001b[39mnormalize,\n\u001b[0;32m   3780\u001b[0m         hatch\u001b[38;5;241m=\u001b[39mhatch,\n\u001b[0;32m   3781\u001b[0m         \u001b[38;5;241m*\u001b[39m\u001b[38;5;241m*\u001b[39m({\u001b[38;5;124m\"\u001b[39m\u001b[38;5;124mdata\u001b[39m\u001b[38;5;124m\"\u001b[39m: data} \u001b[38;5;28;01mif\u001b[39;00m data \u001b[38;5;129;01mis\u001b[39;00m \u001b[38;5;129;01mnot\u001b[39;00m \u001b[38;5;28;01mNone\u001b[39;00m \u001b[38;5;28;01melse\u001b[39;00m {}),\n\u001b[0;32m   3782\u001b[0m     )\n",
      "File \u001b[1;32mc:\\Users\\siddh\\anaconda3\\Lib\\site-packages\\matplotlib\\__init__.py:1473\u001b[0m, in \u001b[0;36m_preprocess_data.<locals>.inner\u001b[1;34m(ax, data, *args, **kwargs)\u001b[0m\n\u001b[0;32m   1470\u001b[0m \u001b[38;5;129m@functools\u001b[39m\u001b[38;5;241m.\u001b[39mwraps(func)\n\u001b[0;32m   1471\u001b[0m \u001b[38;5;28;01mdef\u001b[39;00m \u001b[38;5;21minner\u001b[39m(ax, \u001b[38;5;241m*\u001b[39margs, data\u001b[38;5;241m=\u001b[39m\u001b[38;5;28;01mNone\u001b[39;00m, \u001b[38;5;241m*\u001b[39m\u001b[38;5;241m*\u001b[39mkwargs):\n\u001b[0;32m   1472\u001b[0m     \u001b[38;5;28;01mif\u001b[39;00m data \u001b[38;5;129;01mis\u001b[39;00m \u001b[38;5;28;01mNone\u001b[39;00m:\n\u001b[1;32m-> 1473\u001b[0m         \u001b[38;5;28;01mreturn\u001b[39;00m func(\n\u001b[0;32m   1474\u001b[0m             ax,\n\u001b[0;32m   1475\u001b[0m             \u001b[38;5;241m*\u001b[39m\u001b[38;5;28mmap\u001b[39m(sanitize_sequence, args),\n\u001b[0;32m   1476\u001b[0m             \u001b[38;5;241m*\u001b[39m\u001b[38;5;241m*\u001b[39m{k: sanitize_sequence(v) \u001b[38;5;28;01mfor\u001b[39;00m k, v \u001b[38;5;129;01min\u001b[39;00m kwargs\u001b[38;5;241m.\u001b[39mitems()})\n\u001b[0;32m   1478\u001b[0m     bound \u001b[38;5;241m=\u001b[39m new_sig\u001b[38;5;241m.\u001b[39mbind(ax, \u001b[38;5;241m*\u001b[39margs, \u001b[38;5;241m*\u001b[39m\u001b[38;5;241m*\u001b[39mkwargs)\n\u001b[0;32m   1479\u001b[0m     auto_label \u001b[38;5;241m=\u001b[39m (bound\u001b[38;5;241m.\u001b[39marguments\u001b[38;5;241m.\u001b[39mget(label_namer)\n\u001b[0;32m   1480\u001b[0m                   \u001b[38;5;129;01mor\u001b[39;00m bound\u001b[38;5;241m.\u001b[39mkwargs\u001b[38;5;241m.\u001b[39mget(label_namer))\n",
      "File \u001b[1;32mc:\\Users\\siddh\\anaconda3\\Lib\\site-packages\\matplotlib\\axes\\_axes.py:3280\u001b[0m, in \u001b[0;36mAxes.pie\u001b[1;34m(self, x, explode, labels, colors, autopct, pctdistance, shadow, labeldistance, startangle, radius, counterclock, wedgeprops, textprops, center, frame, rotatelabels, normalize, hatch)\u001b[0m\n\u001b[0;32m   3277\u001b[0m \u001b[38;5;28mself\u001b[39m\u001b[38;5;241m.\u001b[39mset_aspect(\u001b[38;5;124m'\u001b[39m\u001b[38;5;124mequal\u001b[39m\u001b[38;5;124m'\u001b[39m)\n\u001b[0;32m   3278\u001b[0m \u001b[38;5;66;03m# The use of float32 is \"historical\", but can't be changed without\u001b[39;00m\n\u001b[0;32m   3279\u001b[0m \u001b[38;5;66;03m# regenerating the test baselines.\u001b[39;00m\n\u001b[1;32m-> 3280\u001b[0m x \u001b[38;5;241m=\u001b[39m np\u001b[38;5;241m.\u001b[39masarray(x, np\u001b[38;5;241m.\u001b[39mfloat32)\n\u001b[0;32m   3281\u001b[0m \u001b[38;5;28;01mif\u001b[39;00m x\u001b[38;5;241m.\u001b[39mndim \u001b[38;5;241m>\u001b[39m \u001b[38;5;241m1\u001b[39m:\n\u001b[0;32m   3282\u001b[0m     \u001b[38;5;28;01mraise\u001b[39;00m \u001b[38;5;167;01mValueError\u001b[39;00m(\u001b[38;5;124m\"\u001b[39m\u001b[38;5;124mx must be 1D\u001b[39m\u001b[38;5;124m\"\u001b[39m)\n",
      "\u001b[1;31mValueError\u001b[0m: setting an array element with a sequence. The requested array has an inhomogeneous shape after 1 dimensions. The detected shape was (2,) + inhomogeneous part."
     ]
    },
    {
     "data": {
      "image/png": "[encoded data removed]",
      "text/plain": [
       "<Figure size 600x600 with 1 Axes>"
      ]
     },
     "metadata": {},
     "output_type": "display_data"
    }
   ],
   "source": [
    "import numpy as np\n",
    "import matplotlib.pyplot as plt\n",
    "\n",
    "# Data (Fix logical conditions)\n",
    "labels = ['u-u', 'total u-u']\n",
    "values = [\n",
    "    (df_fp3['migration_4']=='Urban-to-Urban') & (df_fp3['Depression']==1).sum(),  # Count cases\n",
    "    df_fp3['Depression'].sum()  # Total depression cases\n",
    "]\n",
    "\n",
    "# Create pie chart\n",
    "plt.figure(figsize=(6, 6))  # Set figure size\n",
    "plt.pie(values, labels=labels, autopct='%1.1f%%', startangle=140)\n",
    "\n",
    "# Show the pie chart\n",
    "plt.show()\n"
   ]
  }
 ],
 "metadata": {
  "kernelspec": {
   "display_name": "base",
   "language": "python",
   "name": "python3"
  },
  "language_info": {
   "codemirror_mode": {
    "name": "ipython",
    "version": 3
   },
   "file_extension": ".py",
   "mimetype": "text/x-python",
   "name": "python",
   "nbconvert_exporter": "python",
   "pygments_lexer": "ipython3",
   "version": "3.12.7"
  }
 },
 "nbformat": 4,
 "nbformat_minor": 2
}
