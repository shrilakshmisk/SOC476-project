{
 "cells": [
  {
   "cell_type": "code",
   "execution_count": 2,
   "metadata": {},
   "outputs": [],
   "source": [
    "import numpy as np \n",
    "import pandas as pd \n",
    "import pyreadstat"
   ]
  },
  {
   "cell_type": "code",
   "execution_count": 3,
   "metadata": {},
   "outputs": [],
   "source": [
    "# reading the metro file\n",
    "fp3 = \"./metro cities/3_LASI_W1_Individual_metrocities_28-03-22.sav\"\n",
    "df_fp3, meta_fp3 = pyreadstat.read_sav(fp3)"
   ]
  },
  {
   "cell_type": "code",
   "execution_count": 4,
   "metadata": {},
   "outputs": [],
   "source": [
    "# Function to get the variable name given a column label (case-insensitive)\n",
    "def get_varname_by_label(meta, target_label):\n",
    "    target_label = target_label.strip().lower()\n",
    "    for var, label in meta.column_names_to_labels.items():\n",
    "        if label is not None and label.strip().lower() == target_label:\n",
    "            return var\n",
    "    return None\n",
    "\n",
    "# Define a function to recode yes/no responses (assuming 1=Yes, 2=No)\n",
    "def recode_yes(x):\n",
    "    return 1 if x == 1 else 0  # Convert 1 to 1, everything else to 0"
   ]
  },
  {
   "cell_type": "markdown",
   "metadata": {},
   "source": [
    "##### Definition 2:\n",
    "Hard threshold: Individuals who have lived in their current city for more than 20 years will not be considered migrants (Binary Variable).\n",
    "\n",
    "##### Definition 3:\n",
    "Duration-based categories: Migration status classified into ordinal categories such as <2 years, <5 years, <10 years in the current location. (Ordinal Variable).\n",
    "\n",
    "Create migration_3 with ordinal groups:\n",
    "1. 0-2 years -> 1\n",
    "2. 3-5 years -> 2\n",
    "3. 6-10 years -> 3\n",
    "4. 11-20 years -> 4\n",
    "5. 21-40 years -> 5\n",
    "6. .>40 years -> 6\n",
    "7. NaN values -> 0\n"
   ]
  },
  {
   "cell_type": "code",
   "execution_count": 5,
   "metadata": {},
   "outputs": [],
   "source": [
    "# params for definition 2\n",
    "THRESHOLD = 20\n",
    "\n",
    "# params for definition 3\n",
    "BINS = [-np.inf, 2, 5, 10, 20, 40, np.inf]\n",
    "LABELS = [1, 2, 3, 4, 5, 6]\n",
    "\n",
    "# params for outcome - mental health (CIDI SF score method)\n",
    "# Define the column names directly (based on the lowercase version of LASI dataset codes)\n",
    "cols_cidi1 = [\"mh204\", \"mh205\", \"mh206\", \"mh207\", \"mh208\", \"mh209\", \"mh210\", \"mh211\"]\n",
    "cols_cidi2 = [\"mh217\", \"mh218\", \"mh219\", \"mh220\", \"mh221\", \"mh222\"]\n",
    "\n",
    "# Screening questions\n",
    "col_MH201 = \"mh201\"  # Screening for dysphoria\n",
    "col_MH214 = \"mh214\"  # Screening for anhedonia\n",
    "\n",
    "CIDI_1_THRESHOLD = 3 # Depression: if CIDI_1 score >=3, then 1 else 0"
   ]
  },
  {
   "cell_type": "code",
   "execution_count": 6,
   "metadata": {},
   "outputs": [
    {
     "name": "stdout",
     "output_type": "stream",
     "text": [
      "   migration_2  migration_3  CIDI_1  CIDI_2  Depression\n",
      "0            1            3       0       0           0\n",
      "1            1            4       0       0           0\n",
      "2            1            4       0       0           0\n",
      "3            0            5       0       0           0\n",
      "4            0            5       0       0           0\n"
     ]
    }
   ],
   "source": [
    "# Get variable name for \"Since how many years living continuously in this area\"\n",
    "col_name_years = get_varname_by_label(meta_fp3, \"Since how many years living continuously in this area\")\n",
    "if col_name_years is None:\n",
    "    raise ValueError(\"Column label 'Since how many years living continuously in this area' not found in fp3.sav metadata.\")\n",
    "\n",
    "# Convert the column to numeric (handling errors)\n",
    "years_living = pd.to_numeric(df_fp3[col_name_years], errors='coerce')\n",
    "\n",
    "# Create a new DataFrame for migration_2 and migration_3\n",
    "df_input = pd.DataFrame()\n",
    "\n",
    "# Create migration_2: 0 if years >= THRESHOLD, else 1\n",
    "df_input[\"migration_2\"] = np.where(years_living >= THRESHOLD, 0, 1)\n",
    "\n",
    "# Use pd.cut, and fill NaN values with a default category (e.g., 0 for unknown)\n",
    "df_input[\"migration_3\"] = pd.cut(years_living, bins=BINS, labels=LABELS, right=True)\n",
    "\n",
    "# Convert migration_3 to integer, replacing NaN with 0 (or any default category you prefer)\n",
    "df_input[\"migration_3\"] = df_input[\"migration_3\"].cat.add_categories(0).fillna(0).astype(int)\n",
    "\n",
    "# Compute CIDI_1 (dysphoria score)\n",
    "df_fp3[\"MH201_binary\"] = df_fp3[col_MH201].apply(recode_yes)\n",
    "df_input[\"CIDI_1\"] = df_fp3[cols_cidi1].applymap(recode_yes).sum(axis=1)\n",
    "df_input.loc[df_fp3[\"MH201_binary\"] == 0, \"CIDI_1\"] = 0  # Set to 0 if screening was No\n",
    "\n",
    "# Compute CIDI_2 (anhedonia score)\n",
    "df_fp3[\"MH214_binary\"] = df_fp3[col_MH214].apply(recode_yes)\n",
    "df_input[\"CIDI_2\"] = df_fp3[cols_cidi2].applymap(recode_yes).sum(axis=1)\n",
    "df_input.loc[df_fp3[\"MH214_binary\"] == 0, \"CIDI_2\"] = 0  # Set to 0 if screening was No\n",
    "\n",
    "# Create binary depression variable (1 if CIDI_1 >= CIDI_1_THRESHOLD, else 0)\n",
    "df_input[\"Depression\"] = df_input[\"CIDI_1\"].apply(lambda x: 1 if x >= CIDI_1_THRESHOLD else 0)\n",
    "\n",
    "# Display first few rows of the new DataFrame\n",
    "print(df_input.head())\n"
   ]
  },
  {
   "cell_type": "code",
   "execution_count": 7,
   "metadata": {},
   "outputs": [
    {
     "name": "stdout",
     "output_type": "stream",
     "text": [
      "Depression\n",
      "0    4321\n",
      "1     152\n",
      "Name: count, dtype: int64\n"
     ]
    }
   ],
   "source": [
    "counts = df_input[\"Depression\"].value_counts()\n",
    "print(counts)"
   ]
  }
 ],
 "metadata": {
  "kernelspec": {
   "display_name": "Python 3",
   "language": "python",
   "name": "python3"
  },
  "language_info": {
   "codemirror_mode": {
    "name": "ipython",
    "version": 3
   },
   "file_extension": ".py",
   "mimetype": "text/x-python",
   "name": "python",
   "nbconvert_exporter": "python",
   "pygments_lexer": "ipython3",
   "version": "3.9.7"
  }
 },
 "nbformat": 4,
 "nbformat_minor": 2
}
