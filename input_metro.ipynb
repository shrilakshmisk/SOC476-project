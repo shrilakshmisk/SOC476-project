{
 "cells": [
  {
   "cell_type": "code",
   "execution_count": 1,
   "metadata": {},
   "outputs": [],
   "source": [
    "import numpy as np \n",
    "import pandas as pd \n",
    "import pyreadstat"
   ]
  },
  {
   "cell_type": "code",
   "execution_count": 2,
   "metadata": {},
   "outputs": [],
   "source": [
    "# reading the metro file\n",
    "fp3 = \"./metro cities/3_LASI_W1_Individual_metrocities_28-03-22.sav\"\n",
    "df_fp3, meta_fp3 = pyreadstat.read_sav(fp3, encoding=\"latin1\")"
   ]
  },
  {
   "cell_type": "code",
   "execution_count": 3,
   "metadata": {},
   "outputs": [],
   "source": [
    "# Function to get the variable name given a column label (case-insensitive)\n",
    "def get_varname_by_label(meta, target_label):\n",
    "    target_label = target_label.strip().lower()\n",
    "    for var, label in meta.column_names_to_labels.items():\n",
    "        if label is not None and label.strip().lower() == target_label:\n",
    "            return var\n",
    "    return None\n",
    "\n",
    "# Define a function to recode yes/no responses (assuming 1=Yes, 2=No)\n",
    "def recode_yes(x):\n",
    "    return 1 if x == 1 else 0  # Convert 1 to 1, everything else to 0"
   ]
  },
  {
   "cell_type": "markdown",
   "metadata": {},
   "source": [
    "##### Definition 2:\n",
    "Hard threshold: Individuals who have lived in their current city for more than 20 years will not be considered migrants (Binary Variable).\n",
    "\n",
    "##### Definition 3:\n",
    "Duration-based categories: Migration status classified into ordinal categories such as <2 years, <5 years, <10 years in the current location. (Ordinal Variable).\n",
    "\n",
    "Create migration_3 with ordinal groups:\n",
    "1. 0-2 years -> 1\n",
    "2. 3-5 years -> 2\n",
    "3. 6-10 years -> 3\n",
    "4. 11-20 years -> 4\n",
    "5. 21-40 years -> 5\n",
    "6. .>40 years -> 6\n",
    "7. NaN values -> 0\n"
   ]
  },
  {
   "cell_type": "code",
   "execution_count": 4,
   "metadata": {},
   "outputs": [],
   "source": [
    "# params for definition 2\n",
    "THRESHOLD = 20\n",
    "\n",
    "# params for definition 3\n",
    "BINS = [-np.inf, 2, 5, 10, 20, 40, np.inf]\n",
    "LABELS = [1, 2, 3, 4, 5, 6]\n",
    "\n",
    "# params for outcome - mental health (CIDI SF score method)\n",
    "# Define the column names directly (based on the lowercase version of LASI dataset codes)\n",
    "cols_cidi1 = [\"mh204\", \"mh205\", \"mh206\", \"mh207\", \"mh208\", \"mh209\", \"mh210\", \"mh211\"]\n",
    "cols_cidi2 = [\"mh217\", \"mh218\", \"mh219\", \"mh220\", \"mh221\", \"mh222\"]\n",
    "\n",
    "# Screening questions\n",
    "col_MH201 = \"mh201\"  # Screening for dysphoria\n",
    "col_MH214 = \"mh214\"  # Screening for anhedonia\n",
    "\n",
    "CIDI_1_THRESHOLD = 3 # Depression: if CIDI_1 score >=3, then 1 else 0"
   ]
  },
  {
   "cell_type": "code",
   "execution_count": 5,
   "metadata": {},
   "outputs": [],
   "source": [
    "# Get variable name for \"Since how many years living continuously in this area\"\n",
    "col_name_years = get_varname_by_label(meta_fp3, \"Since how many years living continuously in this area\")\n",
    "if col_name_years is None:\n",
    "    raise ValueError(\"Column label 'Since how many years living continuously in this area' not found in fp3.sav metadata.\")\n",
    "\n",
    "# Convert the column to numeric (handling errors)\n",
    "years_living = pd.to_numeric(df_fp3[col_name_years], errors='coerce')\n",
    "\n",
    "# Create a new DataFrame for migration_2 and migration_3\n",
    "df_input = pd.DataFrame()\n"
   ]
  },
  {
   "cell_type": "code",
   "execution_count": 6,
   "metadata": {},
   "outputs": [
    {
     "name": "stdout",
     "output_type": "stream",
     "text": [
      "       migration_1\n",
      "0  adult_migration\n",
      "1  adult_migration\n",
      "2  adult_migration\n",
      "3  adult_migration\n",
      "4  adult_migration\n"
     ]
    }
   ],
   "source": [
    "\n",
    "# Retrieve variable names for place of birth\n",
    "col_birth_country = get_varname_by_label(meta_fp3, \"Place of birth-country\")\n",
    "col_birth_state   = get_varname_by_label(meta_fp3, \"Place of birth-state\")\n",
    "col_birth_district = get_varname_by_label(meta_fp3, \"Place of birth-district\")\n",
    "col_birth_village  = get_varname_by_label(meta_fp3, \"Place of birth-village/town\")\n",
    "\n",
    "# Retrieve variable names for childhood residence\n",
    "col_child_country = get_varname_by_label(meta_fp3, \"Lived most of your childhood-Country\")\n",
    "col_child_district = get_varname_by_label(meta_fp3, \"Lived most of your childhood-distirct\")\n",
    "col_child_state   = get_varname_by_label(meta_fp3, \"Lived most of your childhood-state\")\n",
    "col_child_village  = get_varname_by_label(meta_fp3, \"Lived most of your childhood-village/town\")\n",
    "\n",
    "# Retrieve variable names for adult residence\n",
    "col_adult_country = get_varname_by_label(meta_fp3, \"Lived most of your adult life-country\")\n",
    "col_adult_state   = get_varname_by_label(meta_fp3, \"Lived most of your adult life-state\")\n",
    "col_adult_district = get_varname_by_label(meta_fp3, \"Lived most of your adult life-district\")\n",
    "col_adult_village  = get_varname_by_label(meta_fp3, \"Lived most of your adult life-village/town\")\n",
    "\n",
    "# Check that all required variables were found\n",
    "for name, col in [(\"Place of birth-country\", col_birth_country),\n",
    "                  (\"Place of birth-state\", col_birth_state),\n",
    "                  (\"Place of birth-district\", col_birth_district),\n",
    "                  (\"Place of birth-village/town\", col_birth_village),\n",
    "                  (\"Lived most of your childhood-Country\", col_child_country),\n",
    "                  (\"Lived most of your childhood-distirct\", col_child_district),\n",
    "                  (\"Lived most of your childhood-state\", col_child_state),\n",
    "                  (\"Lived most of your childhood-village/town\", col_child_village),\n",
    "                  (\"Lived most of your adult life-country\", col_adult_country),\n",
    "                  (\"Lived most of your adult life-state\", col_adult_state),\n",
    "                  (\"Lived most of your adult life-district\", col_adult_district),\n",
    "                  (\"Lived most of your adult life-village/town\", col_adult_village)]:\n",
    "    if col is None:\n",
    "        raise ValueError(f\"Column label '{name}' not found in fp3.sav metadata.\")\n",
    "\n",
    "# Extract the relevant columns and clean the data\n",
    "def clean_series(series):\n",
    "    return series.astype(str).str.strip().str.lower().fillna(\"\")\n",
    "\n",
    "birth_country = clean_series(df_fp3[col_birth_country])\n",
    "birth_state = clean_series(df_fp3[col_birth_state])\n",
    "birth_district = clean_series(df_fp3[col_birth_district])\n",
    "birth_village = clean_series(df_fp3[col_birth_village])\n",
    "\n",
    "child_country = clean_series(df_fp3[col_child_country])\n",
    "child_state = clean_series(df_fp3[col_child_state])\n",
    "child_district = clean_series(df_fp3[col_child_district])\n",
    "child_village = clean_series(df_fp3[col_child_village])\n",
    "\n",
    "adult_country = clean_series(df_fp3[col_adult_country])\n",
    "adult_state = clean_series(df_fp3[col_adult_state])\n",
    "adult_district = clean_series(df_fp3[col_adult_district])\n",
    "adult_village = clean_series(df_fp3[col_adult_village])\n",
    "\n",
    "# Create concatenated location strings (using a separator to clearly mark boundaries)\n",
    "birth_location = birth_country + \"|\" + birth_state + \"|\" + birth_district + \"|\" + birth_village\n",
    "child_location = child_country + \"|\" + child_state + \"|\" + child_district + \"|\" + child_village\n",
    "adult_location = adult_country + \"|\" + adult_state + \"|\" + adult_district + \"|\" + adult_village\n",
    "\n",
    "# Compute migration indicators:\n",
    "# Childhood Migration Indicator: 1 if any level differs between place of birth and childhood residence, else 0.\n",
    "child_migration = (birth_location != child_location).astype(int)\n",
    "\n",
    "# Adult Migration Indicator: 1 if any level differs between place of birth and adult residence, else 0.\n",
    "adult_migration = (birth_location != adult_location).astype(int)\n",
    "\n",
    "# Create a new DataFrame with the concatenated locations and migration indicators\n",
    "df_life_course_migration = pd.DataFrame({\n",
    "    \"Birth Location\": birth_location,\n",
    "    \"Childhood Location\": child_location,\n",
    "    \"Childhood Migration Indicator\": child_migration,\n",
    "    \"Adult Location\": adult_location,\n",
    "    \"Adult Migration Indicator\": adult_migration\n",
    "})\n",
    "\n",
    "df_input[\"migration_1\"] = np.where(\n",
    "    years_living == 9993,\n",
    "    \"0\",\n",
    "    np.where(child_migration == 1, \"child_migration\",\n",
    "             np.where(adult_migration == 1, \"adult_migration\", \"0\"))\n",
    ")\n",
    "\n",
    "\n",
    "# Display the first few rows of the resulting DataFrame\n",
    "print(df_input.head())\n"
   ]
  },
  {
   "cell_type": "code",
   "execution_count": 7,
   "metadata": {},
   "outputs": [
    {
     "name": "stdout",
     "output_type": "stream",
     "text": [
      "       migration_1  migration_2  migration_3\n",
      "0  adult_migration            1            3\n",
      "1  adult_migration            1            4\n",
      "2  adult_migration            1            4\n",
      "3  adult_migration            0            5\n",
      "4  adult_migration            0            5\n"
     ]
    }
   ],
   "source": [
    "\n",
    "# Create migration_2: 0 if years >= THRESHOLD, else 1\n",
    "df_input[\"migration_2\"] = np.where(years_living >= THRESHOLD, 0, 1)\n",
    "\n",
    "# Use pd.cut, and fill NaN values with a default category (e.g., 0 for unknown)\n",
    "df_input[\"migration_3\"] = pd.cut(years_living, bins=BINS, labels=LABELS, right=True)\n",
    "\n",
    "# Convert migration_3 to integer, replacing NaN with 0 (or any default category you prefer)\n",
    "df_input[\"migration_3\"] = df_input[\"migration_3\"].cat.add_categories(0).fillna(0).astype(int)\n",
    "\n",
    "\n",
    "# Display first few rows of the new DataFrame\n",
    "print(df_input.head())\n"
   ]
  },
  {
   "cell_type": "code",
   "execution_count": 8,
   "metadata": {},
   "outputs": [
    {
     "name": "stdout",
     "output_type": "stream",
     "text": [
      "       migration_1  migration_2  migration_3     migration_4\n",
      "0  adult_migration            1            3  Urban-to-Urban\n",
      "1  adult_migration            1            4  Urban-to-Rural\n",
      "2  adult_migration            1            4  Urban-to-Rural\n",
      "3  adult_migration            0            5  Urban-to-Rural\n",
      "4  adult_migration            0            5  Urban-to-Rural\n"
     ]
    }
   ],
   "source": [
    "# Get variable names by column labels (using your previously defined function)\n",
    "col_DM017 = get_varname_by_label(meta_fp3, \"Place of residence\")\n",
    "col_DM018 = get_varname_by_label(meta_fp3, \"Place of last residence-village/town\")\n",
    "\n",
    "# Extract the columns for DM017 and DM018\n",
    "# (These variables are assumed to contain numeric codes: 1 for village, 2 for town)\n",
    "place_birth = df_fp3[col_DM017]\n",
    "place_last_res = df_fp3[col_DM018]\n",
    "\n",
    "# For clarity, create a new DataFrame with only the two variables:\n",
    "df_migration_type = pd.DataFrame({\n",
    "    \"Place of Birth\": place_birth,\n",
    "    \"Place of Last Residence\": place_last_res\n",
    "})\n",
    "\n",
    "# Define a function to classify migration type based on rural/urban codes\n",
    "def classify_migration(row):\n",
    "    pb = row[\"Place of Birth\"]\n",
    "    plr = row[\"Place of Last Residence\"]\n",
    "    # Check for missing values (if not coded as 1 or 2, you might want to handle them separately)\n",
    "    if pd.isna(pb) or pd.isna(plr):\n",
    "        return \"0\"\n",
    "    if pb == 1 and plr == 1:\n",
    "        return \"Rural-to-Rural\"\n",
    "    elif pb == 1 and plr == 2:\n",
    "        return \"Rural-to-Urban\"\n",
    "    elif pb == 2 and plr == 1:\n",
    "        return \"Urban-to-Rural\"\n",
    "    elif pb == 2 and plr == 2:\n",
    "        return \"Urban-to-Urban\"\n",
    "    else:\n",
    "        return np.nan\n",
    "\n",
    "# Apply the function to each row to create a new column 'Migration Type'\n",
    "df_input[\"migration_4\"] = df_migration_type.apply(classify_migration, axis=1)\n",
    "\n",
    "# Optionally, display the first few rows of the resulting DataFrame\n",
    "print(df_input.head())\n"
   ]
  },
  {
   "cell_type": "code",
   "execution_count": 9,
   "metadata": {},
   "outputs": [
    {
     "name": "stderr",
     "output_type": "stream",
     "text": [
      "/tmp/ipykernel_60177/1461186384.py:3: FutureWarning: DataFrame.applymap has been deprecated. Use DataFrame.map instead.\n",
      "  df_input[\"CIDI_1\"] = df_fp3[cols_cidi1].applymap(recode_yes).sum(axis=1)\n",
      "/tmp/ipykernel_60177/1461186384.py:8: FutureWarning: DataFrame.applymap has been deprecated. Use DataFrame.map instead.\n",
      "  df_input[\"CIDI_2\"] = df_fp3[cols_cidi2].applymap(recode_yes).sum(axis=1)\n"
     ]
    }
   ],
   "source": [
    "# Compute CIDI_1 (dysphoria score)\n",
    "df_fp3[\"MH201_binary\"] = df_fp3[col_MH201].apply(recode_yes)\n",
    "df_input[\"CIDI_1\"] = df_fp3[cols_cidi1].applymap(recode_yes).sum(axis=1)\n",
    "df_input.loc[df_fp3[\"MH201_binary\"] == 0, \"CIDI_1\"] = 0  # Set to 0 if screening was No\n",
    "\n",
    "# Compute CIDI_2 (anhedonia score)\n",
    "df_fp3[\"MH214_binary\"] = df_fp3[col_MH214].apply(recode_yes)\n",
    "df_input[\"CIDI_2\"] = df_fp3[cols_cidi2].applymap(recode_yes).sum(axis=1)\n",
    "df_input.loc[df_fp3[\"MH214_binary\"] == 0, \"CIDI_2\"] = 0  # Set to 0 if screening was No\n",
    "\n",
    "# Create binary depression variable (1 if CIDI_1 >= CIDI_1_THRESHOLD, else 0)\n",
    "df_input[\"Depression\"] = df_input[\"CIDI_1\"].apply(lambda x: 1 if x >= CIDI_1_THRESHOLD else 0)\n"
   ]
  },
  {
   "cell_type": "code",
   "execution_count": 10,
   "metadata": {},
   "outputs": [
    {
     "name": "stdout",
     "output_type": "stream",
     "text": [
      "       migration_1  migration_2  migration_3     migration_4  CIDI_1  CIDI_2  \\\n",
      "0  adult_migration            1            3  Urban-to-Urban       0       0   \n",
      "1  adult_migration            1            4  Urban-to-Rural       0       0   \n",
      "2  adult_migration            1            4  Urban-to-Rural       0       0   \n",
      "3  adult_migration            0            5  Urban-to-Rural       0       0   \n",
      "4  adult_migration            0            5  Urban-to-Rural       0       0   \n",
      "\n",
      "   Depression  \n",
      "0           0  \n",
      "1           0  \n",
      "2           0  \n",
      "3           0  \n",
      "4           0  \n"
     ]
    }
   ],
   "source": [
    "print(df_input.head())"
   ]
  },
  {
   "cell_type": "code",
   "execution_count": 11,
   "metadata": {},
   "outputs": [
    {
     "name": "stdout",
     "output_type": "stream",
     "text": [
      "migration_1\n",
      "0                  3016\n",
      "adult_migration    1235\n",
      "child_migration     222\n",
      "Name: count, dtype: int64\n",
      "\n",
      "migration_2\n",
      "0    3792\n",
      "1     681\n",
      "Name: count, dtype: int64\n",
      "\n",
      "migration_3\n",
      "6    2182\n",
      "5    1394\n",
      "4     542\n",
      "3     211\n",
      "2      87\n",
      "1      51\n",
      "0       6\n",
      "Name: count, dtype: int64\n",
      "\n",
      "migration_4\n",
      "Urban-to-Rural    1618\n",
      "0                 1556\n",
      "Urban-to-Urban    1299\n",
      "Name: count, dtype: int64\n",
      "\n",
      "Depression\n",
      "0    4321\n",
      "1     152\n",
      "Name: count, dtype: int64\n"
     ]
    }
   ],
   "source": [
    "counts = df_input[\"migration_1\"].value_counts()\n",
    "print(counts)\n",
    "print()\n",
    "counts = df_input[\"migration_2\"].value_counts()\n",
    "print(counts)\n",
    "print()\n",
    "counts = df_input[\"migration_3\"].value_counts()\n",
    "print(counts)\n",
    "print()\n",
    "counts = df_input[\"migration_4\"].value_counts()\n",
    "print(counts)\n",
    "print()\n",
    "counts = df_input[\"Depression\"].value_counts()\n",
    "print(counts)\n"
   ]
  },
  {
   "cell_type": "code",
   "execution_count": null,
   "metadata": {},
   "outputs": [],
   "source": []
  },
  {
   "cell_type": "code",
   "execution_count": null,
   "metadata": {},
   "outputs": [],
   "source": [
    "# df['dm005'] # age\n",
    "# df['dm008'] #education level\n",
    "# df['fs318'] # living arrangements\n",
    "# df['fs323'] # relationship with family and friends -  leave for now\n",
    "# df['co101']-df['co107'] # comsumption -- household not individual"
   ]
  },
  {
   "cell_type": "code",
   "execution_count": null,
   "metadata": {},
   "outputs": [],
   "source": [
    "import pandas as pd\n",
    "\n",
    "def one_hot_encode(df, column):\n",
    "    dummies = pd.get_dummies(df[column], prefix=column).astype(int)\n",
    "    dummies.columns = [f\"{column}_{i+1}\" for i in range(dummies.shape[1])]\n",
    "\n",
    "    for col in dummies.columns:\n",
    "        df[col] = dummies[col]  \n"
   ]
  },
  {
   "cell_type": "code",
   "execution_count": null,
   "metadata": {},
   "outputs": [],
   "source": [
    "from statsmodels.stats.outliers_influence import variance_inflation_factor\n",
    "import statsmodels.api as sm"
   ]
  },
  {
   "cell_type": "code",
   "execution_count": null,
   "metadata": {},
   "outputs": [],
   "source": [
    "df_fp3['migration_2']=df_input['migration_2']"
   ]
  },
  {
   "cell_type": "code",
   "execution_count": null,
   "metadata": {},
   "outputs": [],
   "source": [
    "binary_features=['migration_2']\n",
    "numerical_features=['dm005']\n",
    "ordinal_features=['dm008']\n",
    "categorial_cols=['fs318']\n",
    "categorial_features=[]\n",
    "for col in categorial_cols:\n",
    "    one_hot_encode(df_fp3,col)\n",
    "\n",
    "    for i in range(df_fp3[col].nunique()):\n",
    "        categorial_features.append(col+f'_{i+1}')\n",
    "\n",
    "feature_cols= binary_features + numerical_features + ordinal_features + categorial_features"
   ]
  },
  {
   "cell_type": "code",
   "execution_count": null,
   "metadata": {},
   "outputs": [],
   "source": [
    "X=df_fp3[feature_cols]\n",
    "\n",
    "for col in categorial_features + ordinal_features+ binary_features:\n",
    "    X.loc[:, col] = X[col].fillna(X[col].mode()[0])\n",
    "for col in numerical_features:\n",
    "    X.loc[:, col] = X[col].fillna(X[col].mean())\n",
    "\n",
    "X=sm.add_constant(X)\n",
    "X.dropna(inplace=True)"
   ]
  },
  {
   "cell_type": "code",
   "execution_count": null,
   "metadata": {},
   "outputs": [],
   "source": [
    "vif_data = pd.DataFrame()\n",
    "vif_data[\"Variable\"] = X.columns\n",
    "vif_data[\"VIF\"] = [variance_inflation_factor(X.values, i) for i in range(X.shape[1])]"
   ]
  },
  {
   "cell_type": "code",
   "execution_count": null,
   "metadata": {},
   "outputs": [
    {
     "name": "stdout",
     "output_type": "stream",
     "text": [
      "      Variable        VIF\n",
      "0        const  35.928449\n",
      "1  migration_2   1.026981\n",
      "2        dm005   1.200894\n",
      "3        dm008   1.012105\n",
      "4      fs318_1   1.018061\n",
      "5      fs318_2   1.090463\n",
      "6      fs318_3   1.141120\n",
      "7      fs318_4   1.002560\n"
     ]
    }
   ],
   "source": [
    "print(vif_data)"
   ]
  },
  {
   "cell_type": "code",
   "execution_count": null,
   "metadata": {},
   "outputs": [
    {
     "name": "stdout",
     "output_type": "stream",
     "text": [
      "Warning: Maximum number of iterations has been exceeded.\n",
      "         Current function value: 0.147179\n",
      "         Iterations: 35\n",
      "Adjusted odds ratio:  1.1503841246442899\n"
     ]
    },
    {
     "name": "stderr",
     "output_type": "stream",
     "text": [
      "c:\\Users\\siddh\\anaconda3\\Lib\\site-packages\\statsmodels\\base\\model.py:607: ConvergenceWarning: Maximum Likelihood optimization failed to converge. Check mle_retvals\n",
      "  warnings.warn(\"Maximum Likelihood optimization failed to \"\n",
      "C:\\Users\\siddh\\AppData\\Local\\Temp\\ipykernel_6872\\4201288895.py:6: FutureWarning: Series.__getitem__ treating keys as positions is deprecated. In a future version, integer keys will always be treated as labels (consistent with DataFrame behavior). To access a value by position, use `ser.iloc[pos]`\n",
      "  print(\"Adjusted odds ratio: \",np.exp(model.params[1]))\n"
     ]
    }
   ],
   "source": [
    "# Fit logistic regression model\n",
    "y = df_input['Depression']\n",
    "model = sm.Logit(y, X).fit()\n",
    "\n",
    "# Display model summary\n",
    "print(\"Adjusted odds ratio: \",np.exp(model.params[1]))"
   ]
  },
  {
   "cell_type": "code",
   "execution_count": null,
   "metadata": {},
   "outputs": [],
   "source": []
  }
 ],
 "metadata": {
  "kernelspec": {
   "display_name": "myenv",
   "language": "python",
   "name": "python3"
  },
  "language_info": {
   "codemirror_mode": {
    "name": "ipython",
    "version": 3
   },
   "file_extension": ".py",
   "mimetype": "text/x-python",
   "name": "python",
   "nbconvert_exporter": "python",
   "pygments_lexer": "ipython3",
   "version": "3.12.3"
  }
 },
 "nbformat": 4,
 "nbformat_minor": 2
}
