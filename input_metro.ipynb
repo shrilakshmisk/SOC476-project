{
 "cells": [
  {
   "cell_type": "code",
   "execution_count": 39,
   "metadata": {},
   "outputs": [],
   "source": [
    "import numpy as np \n",
    "import pandas as pd \n",
    "import pyreadstat"
   ]
  },
  {
   "cell_type": "code",
   "execution_count": 40,
   "metadata": {},
   "outputs": [],
   "source": [
    "# reading the metro file\n",
    "fp3 = \"./metro cities/3_LASI_W1_Individual_metrocities_28-03-22.sav\"\n",
    "df_fp3, meta_fp3 = pyreadstat.read_sav(fp3)"
   ]
  },
  {
   "cell_type": "code",
   "execution_count": 41,
   "metadata": {},
   "outputs": [],
   "source": [
    "# Function to get the variable name given a column label (case-insensitive)\n",
    "def get_varname_by_label(meta, target_label):\n",
    "    target_label = target_label.strip().lower()\n",
    "    for var, label in meta.column_names_to_labels.items():\n",
    "        if label is not None and label.strip().lower() == target_label:\n",
    "            return var\n",
    "    return None\n",
    "\n",
    "# Define a function to recode yes/no responses (assuming 1=Yes, 2=No)\n",
    "def recode_yes(x):\n",
    "    return 1 if x == 1 else 0  # Convert 1 to 1, everything else to 0"
   ]
  },
  {
   "cell_type": "markdown",
   "metadata": {},
   "source": [
    "##### Definition 2:\n",
    "Hard threshold: Individuals who have lived in their current city for more than 20 years will not be considered migrants (Binary Variable).\n",
    "\n",
    "##### Definition 3:\n",
    "Duration-based categories: Migration status classified into ordinal categories such as <2 years, <5 years, <10 years in the current location. (Ordinal Variable).\n",
    "\n",
    "Create migration_3 with ordinal groups:\n",
    "1. 0-2 years -> 1\n",
    "2. 3-5 years -> 2\n",
    "3. 6-10 years -> 3\n",
    "4. 11-20 years -> 4\n",
    "5. 21-40 years -> 5\n",
    "6. .>40 years -> 6\n",
    "7. NaN values -> 0\n"
   ]
  },
  {
   "cell_type": "code",
   "execution_count": 42,
   "metadata": {},
   "outputs": [],
   "source": [
    "# params for definition 2\n",
    "THRESHOLD = 20\n",
    "\n",
    "# params for definition 3\n",
    "BINS = [-np.inf, 2, 5, 10, 20, 40, np.inf]\n",
    "LABELS = [1, 2, 3, 4, 5, 6]\n",
    "\n",
    "# params for outcome - mental health (CIDI SF score method)\n",
    "# Define the column names directly (based on the lowercase version of LASI dataset codes)\n",
    "cols_cidi1 = [\"mh204\", \"mh205\", \"mh206\", \"mh207\", \"mh208\", \"mh209\", \"mh210\", \"mh211\"]\n",
    "cols_cidi2 = [\"mh217\", \"mh218\", \"mh219\", \"mh220\", \"mh221\", \"mh222\"]\n",
    "\n",
    "# Screening questions\n",
    "col_MH201 = \"mh201\"  # Screening for dysphoria\n",
    "col_MH214 = \"mh214\"  # Screening for anhedonia\n",
    "\n",
    "CIDI_1_THRESHOLD = 3 # Depression: if CIDI_1 score >=3, then 1 else 0"
   ]
  },
  {
   "cell_type": "code",
   "execution_count": 43,
   "metadata": {},
   "outputs": [
    {
     "name": "stdout",
     "output_type": "stream",
     "text": [
      "   migration_2  migration_3  CIDI_1  CIDI_2  Depression\n",
      "0            1            3       0       0           0\n",
      "1            1            4       0       0           0\n",
      "2            1            4       0       0           0\n",
      "3            0            5       0       0           0\n",
      "4            0            5       0       0           0\n"
     ]
    },
    {
     "name": "stderr",
     "output_type": "stream",
     "text": [
      "C:\\Users\\siddh\\AppData\\Local\\Temp\\ipykernel_6872\\4067296259.py:23: FutureWarning: DataFrame.applymap has been deprecated. Use DataFrame.map instead.\n",
      "  df_input[\"CIDI_1\"] = df_fp3[cols_cidi1].applymap(recode_yes).sum(axis=1)\n",
      "C:\\Users\\siddh\\AppData\\Local\\Temp\\ipykernel_6872\\4067296259.py:28: FutureWarning: DataFrame.applymap has been deprecated. Use DataFrame.map instead.\n",
      "  df_input[\"CIDI_2\"] = df_fp3[cols_cidi2].applymap(recode_yes).sum(axis=1)\n"
     ]
    }
   ],
   "source": [
    "# Get variable name for \"Since how many years living continuously in this area\"\n",
    "col_name_years = get_varname_by_label(meta_fp3, \"Since how many years living continuously in this area\")\n",
    "if col_name_years is None:\n",
    "    raise ValueError(\"Column label 'Since how many years living continuously in this area' not found in fp3.sav metadata.\")\n",
    "\n",
    "# Convert the column to numeric (handling errors)\n",
    "years_living = pd.to_numeric(df_fp3[col_name_years], errors='coerce')\n",
    "\n",
    "# Create a new DataFrame for migration_2 and migration_3\n",
    "df_input = pd.DataFrame()\n",
    "\n",
    "# Create migration_2: 0 if years >= THRESHOLD, else 1\n",
    "df_input[\"migration_2\"] = np.where(years_living >= THRESHOLD, 0, 1)\n",
    "\n",
    "# Use pd.cut, and fill NaN values with a default category (e.g., 0 for unknown)\n",
    "df_input[\"migration_3\"] = pd.cut(years_living, bins=BINS, labels=LABELS, right=True)\n",
    "\n",
    "# Convert migration_3 to integer, replacing NaN with 0 (or any default category you prefer)\n",
    "df_input[\"migration_3\"] = df_input[\"migration_3\"].cat.add_categories(0).fillna(0).astype(int)\n",
    "\n",
    "# Compute CIDI_1 (dysphoria score)\n",
    "df_fp3[\"MH201_binary\"] = df_fp3[col_MH201].apply(recode_yes)\n",
    "df_input[\"CIDI_1\"] = df_fp3[cols_cidi1].applymap(recode_yes).sum(axis=1)\n",
    "df_input.loc[df_fp3[\"MH201_binary\"] == 0, \"CIDI_1\"] = 0  # Set to 0 if screening was No\n",
    "\n",
    "# Compute CIDI_2 (anhedonia score)\n",
    "df_fp3[\"MH214_binary\"] = df_fp3[col_MH214].apply(recode_yes)\n",
    "df_input[\"CIDI_2\"] = df_fp3[cols_cidi2].applymap(recode_yes).sum(axis=1)\n",
    "df_input.loc[df_fp3[\"MH214_binary\"] == 0, \"CIDI_2\"] = 0  # Set to 0 if screening was No\n",
    "\n",
    "# Create binary depression variable (1 if CIDI_1 >= CIDI_1_THRESHOLD, else 0)\n",
    "df_input[\"Depression\"] = df_input[\"CIDI_1\"].apply(lambda x: 1 if x >= CIDI_1_THRESHOLD else 0)\n",
    "\n",
    "# Display first few rows of the new DataFrame\n",
    "print(df_input.head())\n"
   ]
  },
  {
   "cell_type": "code",
   "execution_count": 44,
   "metadata": {},
   "outputs": [
    {
     "name": "stdout",
     "output_type": "stream",
     "text": [
      "Depression\n",
      "0    4321\n",
      "1     152\n",
      "Name: count, dtype: int64\n"
     ]
    }
   ],
   "source": [
    "counts = df_input[\"Depression\"].value_counts()\n",
    "print(counts)"
   ]
  },
  {
   "cell_type": "code",
   "execution_count": null,
   "metadata": {},
   "outputs": [],
   "source": []
  },
  {
   "cell_type": "code",
   "execution_count": null,
   "metadata": {},
   "outputs": [],
   "source": []
  },
  {
   "cell_type": "code",
   "execution_count": 45,
   "metadata": {},
   "outputs": [],
   "source": [
    "# df['dm005'] # age\n",
    "# df['dm008'] #education level\n",
    "# df['fs318'] # living arrangements\n",
    "# df['fs323'] # relationship with family and friends -  leave for now\n",
    "# df['co101']-df['co107'] # comsumption -- household not individual"
   ]
  },
  {
   "cell_type": "code",
   "execution_count": 101,
   "metadata": {},
   "outputs": [
    {
     "name": "stdout",
     "output_type": "stream",
     "text": [
      "  Category  Category_1  Category_2  Category_3\n",
      "0        A           1           0           0\n",
      "1        B           0           1           0\n",
      "2        A           1           0           0\n",
      "3        C           0           0           1\n"
     ]
    }
   ],
   "source": [
    "import pandas as pd\n",
    "\n",
    "def one_hot_encode(df, column):\n",
    "    \"\"\"\n",
    "    One-hot encodes a categorical column in a DataFrame in-place while retaining the original column.\n",
    "    The new column names follow the format: col_name_1, col_name_2, ...\n",
    "\n",
    "    Parameters:\n",
    "    df (pd.DataFrame): The input DataFrame.\n",
    "    column (str): The name of the categorical column to encode.\n",
    "\n",
    "    Returns:\n",
    "    None (Modifies the DataFrame in-place)\n",
    "    \"\"\"\n",
    "    # Perform one-hot encoding\n",
    "    dummies = pd.get_dummies(df[column], prefix=column).astype(int)\n",
    "\n",
    "    # Rename columns to col_name_1, col_name_2, ...\n",
    "    dummies.columns = [f\"{column}_{i+1}\" for i in range(dummies.shape[1])]\n",
    "\n",
    "    # Add the new one-hot encoded columns to the original DataFrame\n",
    "    for col in dummies.columns:\n",
    "        df[col] = dummies[col]  # Assign each new column to the original DataFrame\n",
    "\n",
    "# Example Usage\n",
    "data = pd.DataFrame({'Category': ['A', 'B', 'A', 'C']})\n",
    "one_hot_encode(data, 'Category')\n",
    "print(data)\n"
   ]
  },
  {
   "cell_type": "code",
   "execution_count": 102,
   "metadata": {},
   "outputs": [],
   "source": [
    "from statsmodels.stats.outliers_influence import variance_inflation_factor\n",
    "import statsmodels.api as sm"
   ]
  },
  {
   "cell_type": "code",
   "execution_count": 103,
   "metadata": {},
   "outputs": [],
   "source": [
    "df_fp3['migration_2']=df_input['migration_2']"
   ]
  },
  {
   "cell_type": "code",
   "execution_count": 104,
   "metadata": {},
   "outputs": [],
   "source": [
    "binary_features=['migration_2']\n",
    "numerical_features=['dm005']\n",
    "ordinal_features=['dm008']\n",
    "categorial_cols=['fs318']\n",
    "categorial_features=[]\n",
    "for col in categorial_cols:\n",
    "    one_hot_encode(df_fp3,col)\n",
    "\n",
    "    for i in range(df_fp3[col].nunique()):\n",
    "        categorial_features.append(col+f'_{i+1}')\n",
    "\n",
    "feature_cols= binary_features + numerical_features + ordinal_features + categorial_features"
   ]
  },
  {
   "cell_type": "code",
   "execution_count": 105,
   "metadata": {},
   "outputs": [],
   "source": [
    "X=df_fp3[feature_cols]\n",
    "\n",
    "for col in categorial_features + ordinal_features+ binary_features:\n",
    "    X.loc[:, col] = X[col].fillna(X[col].mode()[0])\n",
    "for col in numerical_features:\n",
    "    X.loc[:, col] = X[col].fillna(X[col].mean())\n",
    "\n",
    "# X.loc[:, 'fs318'] = X['fs318'].fillna(X['fs318'].mode()[0])\n",
    "X=sm.add_constant(X)\n",
    "X.dropna(inplace=True)"
   ]
  },
  {
   "cell_type": "code",
   "execution_count": 108,
   "metadata": {},
   "outputs": [],
   "source": [
    "vif_data = pd.DataFrame()\n",
    "vif_data[\"Variable\"] = X.columns\n",
    "vif_data[\"VIF\"] = [variance_inflation_factor(X.values, i) for i in range(X.shape[1])]"
   ]
  },
  {
   "cell_type": "code",
   "execution_count": 109,
   "metadata": {},
   "outputs": [
    {
     "name": "stdout",
     "output_type": "stream",
     "text": [
      "      Variable        VIF\n",
      "0        const  35.928449\n",
      "1  migration_2   1.026981\n",
      "2        dm005   1.200894\n",
      "3        dm008   1.012105\n",
      "4      fs318_1   1.018061\n",
      "5      fs318_2   1.090463\n",
      "6      fs318_3   1.141120\n",
      "7      fs318_4   1.002560\n"
     ]
    }
   ],
   "source": [
    "print(vif_data)"
   ]
  },
  {
   "cell_type": "code",
   "execution_count": 110,
   "metadata": {},
   "outputs": [
    {
     "name": "stdout",
     "output_type": "stream",
     "text": [
      "Warning: Maximum number of iterations has been exceeded.\n",
      "         Current function value: 0.147179\n",
      "         Iterations: 35\n",
      "                           Logit Regression Results                           \n",
      "==============================================================================\n",
      "Dep. Variable:             Depression   No. Observations:                 4473\n",
      "Model:                          Logit   Df Residuals:                     4465\n",
      "Method:                           MLE   Df Model:                            7\n",
      "Date:                Wed, 19 Mar 2025   Pseudo R-squ.:                0.007705\n",
      "Time:                        00:43:12   Log-Likelihood:                -658.33\n",
      "converged:                      False   LL-Null:                       -663.44\n",
      "Covariance Type:            nonrobust   LLR p-value:                    0.1762\n",
      "===============================================================================\n",
      "                  coef    std err          z      P>|z|      [0.025      0.975]\n",
      "-------------------------------------------------------------------------------\n",
      "const          -3.3521      0.487     -6.888      0.000      -4.306      -2.398\n",
      "migration_2     0.1401      0.230      0.610      0.542      -0.310       0.590\n",
      "dm005           0.0057      0.008      0.761      0.447      -0.009       0.020\n",
      "dm008          -0.0890      0.048     -1.853      0.064      -0.183       0.005\n",
      "fs318_1         0.0497      0.732      0.068      0.946      -1.384       1.484\n",
      "fs318_2         0.0422      0.411      0.103      0.918      -0.764       0.848\n",
      "fs318_3        -0.5506      0.296     -1.858      0.063      -1.131       0.030\n",
      "fs318_4       -19.9040   5.34e+04     -0.000      1.000   -1.05e+05    1.05e+05\n",
      "===============================================================================\n"
     ]
    },
    {
     "name": "stderr",
     "output_type": "stream",
     "text": [
      "c:\\Users\\siddh\\anaconda3\\Lib\\site-packages\\statsmodels\\base\\model.py:607: ConvergenceWarning: Maximum Likelihood optimization failed to converge. Check mle_retvals\n",
      "  warnings.warn(\"Maximum Likelihood optimization failed to \"\n"
     ]
    }
   ],
   "source": [
    "# Fit logistic regression model\n",
    "y = df_input['Depression']\n",
    "model = sm.Logit(y, X).fit()\n",
    "\n",
    "# Display model summary\n",
    "print(model.summary())"
   ]
  },
  {
   "cell_type": "code",
   "execution_count": 111,
   "metadata": {},
   "outputs": [
    {
     "data": {
      "text/plain": [
       "1.1503888319886737"
      ]
     },
     "execution_count": 111,
     "metadata": {},
     "output_type": "execute_result"
    }
   ],
   "source": [
    "np.exp(0.1401)"
   ]
  },
  {
   "cell_type": "code",
   "execution_count": null,
   "metadata": {},
   "outputs": [],
   "source": []
  }
 ],
 "metadata": {
  "kernelspec": {
   "display_name": "base",
   "language": "python",
   "name": "python3"
  },
  "language_info": {
   "codemirror_mode": {
    "name": "ipython",
    "version": 3
   },
   "file_extension": ".py",
   "mimetype": "text/x-python",
   "name": "python",
   "nbconvert_exporter": "python",
   "pygments_lexer": "ipython3",
   "version": "3.12.7"
  }
 },
 "nbformat": 4,
 "nbformat_minor": 2
}
